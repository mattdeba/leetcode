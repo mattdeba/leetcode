{
 "cells": [
  {
   "cell_type": "raw",
   "id": "96f59611",
   "metadata": {},
   "source": [
    "You are given an n x n 2D matrix representing an image, rotate the image by 90 degrees (clockwise).\n",
    "\n",
    "You have to rotate the image in-place, which means you have to modify the input 2D matrix directly. DO NOT allocate another 2D matrix and do the rotation."
   ]
  },
  {
   "cell_type": "code",
   "execution_count": 20,
   "id": "15dcc730",
   "metadata": {},
   "outputs": [],
   "source": [
    "matrix = [[1,2,3],[4,5,6],[7,8,9]]"
   ]
  },
  {
   "cell_type": "raw",
   "id": "73ad254d",
   "metadata": {},
   "source": [
    "1. une solution consiste à créer une copie temporaire."
   ]
  },
  {
   "cell_type": "code",
   "execution_count": 24,
   "id": "f9e68ec1",
   "metadata": {},
   "outputs": [],
   "source": [
    "\n",
    "import copy\n",
    "matrix = [[1,2,3],[4,5,6],[7,8,9]]\n",
    "temp = copy.deepcopy(matrix)\n",
    "for i in range(3):\n",
    "    for j in range(3):\n",
    "        matrix[j][2-i] = temp[i][j]"
   ]
  },
  {
   "cell_type": "raw",
   "id": "3bbb8743",
   "metadata": {},
   "source": [
    "2. Autre solution consiste à appliquer les rotations par quatre."
   ]
  },
  {
   "cell_type": "code",
   "execution_count": 57,
   "id": "4932c741",
   "metadata": {
    "scrolled": true
   },
   "outputs": [
    {
     "data": {
      "text/plain": [
       "[[150, 15, 13, 2, 5],\n",
       " [140, 14, 3, 4, 1],\n",
       " [120, 12, 6, 8, 9],\n",
       " [160, 16, 7, 10, 11],\n",
       " [230, 23, 13, 14, 12]]"
      ]
     },
     "execution_count": 57,
     "metadata": {},
     "output_type": "execute_result"
    }
   ],
   "source": [
    "matrix = [[5,1,9,11,12],[2,4,8,10,14],[13,3,6,7,13],[15,14,12,16,23], [150,140,120,160,230]]\n",
    "def rotate(matrix):\n",
    "    n = len(matrix)\n",
    "    for i in range(0, n//2):\n",
    "        for j in range(i, n-1-i):\n",
    "            i_1, j_1 = j, n-1-i\n",
    "            temp1 = matrix[i_1][j_1]\n",
    "            matrix[i_1][j_1] = matrix[i][j]\n",
    "\n",
    "            i_2, j_2 = j_1, n-1-i_1\n",
    "            temp2 = matrix[i_2][j_2]\n",
    "            matrix[i_2][j_2] = temp1\n",
    "\n",
    "            i_3, j_3 = j_2, n-1-i_2\n",
    "            temp3 = matrix[i_3][j_3]\n",
    "            matrix[i_3][j_3] = temp2\n",
    "\n",
    "            matrix[i][j] = temp3\n",
    "\n",
    "rotate(matrix)\n",
    "matrix"
   ]
  },
  {
   "cell_type": "raw",
   "id": "b46c3aa7",
   "metadata": {},
   "source": [
    "3. Autre solution consiste à transposer et inverser les lignes de la matrices."
   ]
  },
  {
   "cell_type": "code",
   "execution_count": 46,
   "id": "400e48ac",
   "metadata": {},
   "outputs": [
    {
     "name": "stdout",
     "output_type": "stream",
     "text": [
      "[[7, 4, 1], [8, 5, 2], [9, 6, 3]]\n"
     ]
    }
   ],
   "source": [
    "def rotate(matrix):\n",
    "    # Transpose the image\n",
    "    for i in range(len(matrix)):\n",
    "        for j in range(i, len(matrix)):\n",
    "            matrix[i][j], matrix[j][i] = matrix[j][i], matrix[i][j]\n",
    "\n",
    "    # Reverse the rows\n",
    "    for row in matrix:\n",
    "        row.reverse()\n",
    "\n",
    "matrix = [[1, 2, 3],\n",
    "          [4, 5, 6],\n",
    "          [7, 8, 9]]\n",
    "rotate(matrix)\n",
    "print(matrix)  # [[7, 4, 1], [8, 5, 2], [9, 6, 3]]\n"
   ]
  }
 ],
 "metadata": {
  "kernelspec": {
   "display_name": "venv",
   "language": "python",
   "name": "venv"
  },
  "language_info": {
   "codemirror_mode": {
    "name": "ipython",
    "version": 3
   },
   "file_extension": ".py",
   "mimetype": "text/x-python",
   "name": "python",
   "nbconvert_exporter": "python",
   "pygments_lexer": "ipython3",
   "version": "3.8.3rc1"
  }
 },
 "nbformat": 4,
 "nbformat_minor": 5
}
