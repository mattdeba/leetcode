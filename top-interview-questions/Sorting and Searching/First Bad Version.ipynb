{
 "cells": [
  {
   "cell_type": "markdown",
   "metadata": {},
   "source": [
    "You are a product manager and currently leading a team to develop a new product. <br>\n",
    "Unfortunately, the latest version of your product fails the quality check. <br>\n",
    "Since each version is developed based on the previous version, <br>\n",
    "all the versions after a bad version are also bad.<br>\n",
    "<br>\n",
    "Suppose you have n versions [1, 2, ..., n] and you want to find out the first bad one, <br>\n",
    "which causes all the following ones to be bad.<br>\n",
    "<br>\n",
    "You are given an API bool isBadVersion(version) which returns whether version is bad. <br>\n",
    "Implement a function to find the first bad version. You should minimize the number of calls to the API.<br>"
   ]
  },
  {
   "cell_type": "code",
   "execution_count": 8,
   "metadata": {},
   "outputs": [],
   "source": [
    "versions = ['g', 'g', 'g', 'g', 'b', 'b', 'b', 'b', 'b', 'b', 'b','b']"
   ]
  },
  {
   "cell_type": "markdown",
   "metadata": {},
   "source": [
    "Recherche par dichotomies"
   ]
  },
  {
   "cell_type": "code",
   "execution_count": 9,
   "metadata": {},
   "outputs": [],
   "source": [
    "size = len(versions)\n",
    "index_bad = size\n",
    "index_good = 1\n",
    "while index_bad != index_good+1:\n",
    "    new_index = int(index_good + (index_bad - index_good) / 2)\n",
    "    if versions[new_index] == 'g':\n",
    "        index_good = new_index\n",
    "    elif versions[new_index] == 'b':\n",
    "        index_bad = new_index"
   ]
  },
  {
   "cell_type": "code",
   "execution_count": 10,
   "metadata": {},
   "outputs": [
    {
     "data": {
      "text/plain": [
       "5"
      ]
     },
     "execution_count": 10,
     "metadata": {},
     "output_type": "execute_result"
    }
   ],
   "source": [
    "index_bad+1"
   ]
  }
 ],
 "metadata": {
  "kernelspec": {
   "display_name": "venv",
   "language": "python",
   "name": "venv"
  },
  "language_info": {
   "codemirror_mode": {
    "name": "ipython",
    "version": 3
   },
   "file_extension": ".py",
   "mimetype": "text/x-python",
   "name": "python",
   "nbconvert_exporter": "python",
   "pygments_lexer": "ipython3",
   "version": "3.8.3rc1"
  }
 },
 "nbformat": 4,
 "nbformat_minor": 4
}
