{
 "cells": [
  {
   "cell_type": "raw",
   "id": "682df069",
   "metadata": {},
   "source": [
    "Given an integer array nums, move all 0's to the end of it while\n",
    "maintaining the relative order of the non-zero elements.\n",
    "Note that you must do this in-place without making a copy of the array."
   ]
  },
  {
   "cell_type": "code",
   "execution_count": 2,
   "id": "0fea998b",
   "metadata": {},
   "outputs": [],
   "source": [
    "nums = [0,1,0,3,12]\n",
    "zero_moved = 0\n",
    "k = 0\n",
    "last_index = len(nums)-1\n",
    "while(k != last_index-zero_moved):\n",
    "    if nums[k]==0:\n",
    "        del nums[k]\n",
    "        nums.append(0)\n",
    "        zero_moved+=1\n",
    "    else:\n",
    "        k+=1"
   ]
  },
  {
   "cell_type": "code",
   "execution_count": 3,
   "id": "cf48c904",
   "metadata": {},
   "outputs": [
    {
     "data": {
      "text/plain": [
       "[1, 3, 12, 0, 0]"
      ]
     },
     "execution_count": 3,
     "metadata": {},
     "output_type": "execute_result"
    }
   ],
   "source": [
    "nums"
   ]
  }
 ],
 "metadata": {
  "kernelspec": {
   "display_name": "venv",
   "language": "python",
   "name": "venv"
  },
  "language_info": {
   "codemirror_mode": {
    "name": "ipython",
    "version": 3
   },
   "file_extension": ".py",
   "mimetype": "text/x-python",
   "name": "python",
   "nbconvert_exporter": "python",
   "pygments_lexer": "ipython3",
   "version": "3.8.3rc1"
  }
 },
 "nbformat": 4,
 "nbformat_minor": 5
}
