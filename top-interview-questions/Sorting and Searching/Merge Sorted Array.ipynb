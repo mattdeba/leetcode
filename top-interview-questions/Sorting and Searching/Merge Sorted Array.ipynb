{
 "cells": [
  {
   "cell_type": "markdown",
   "metadata": {},
   "source": [
    "\n",
    "You are given two integer arrays nums1 and nums2, sorted in non-decreasing order, and two <br>\n",
    "integers m and n, representing the number of elements in nums1 and nums2 respectively.<br>\n",
    "\n",
    "Merge nums1 and nums2 into a single array sorted in non-decreasing order.<br>\n",
    "\n",
    "The final sorted array should not be returned by the function, but instead be stored inside the <br>\n",
    "array nums1. To accommodate this, nums1 has a length of m + n, where the first m elements denote <br>\n",
    "the elements that should be merged, and the last n elements are set to 0 and should be ignored. <br>\n",
    "nums2 has a length of n."
   ]
  },
  {
   "cell_type": "markdown",
   "metadata": {},
   "source": [
    "Input: nums1 = [1,2,3,0,0,0], m = 3, nums2 = [2,5,6], n = 3 <br>\n",
    "Output: [1,2,2,3,5,6] <br>\n",
    "Explanation: The arrays we are merging are [1,2,3] and [2,5,6]. <br>\n",
    "The result of the merge is [1,2,2,3,5,6] with the underlined elements coming from nums1.<br>\n",
    "\n",
    "Follow up: Can you come up with an algorithm that runs in O(m + n) time?\n"
   ]
  },
  {
   "cell_type": "code",
   "execution_count": 116,
   "metadata": {},
   "outputs": [],
   "source": [
    "nums1 = [1,2,3,0,0,0,0]\n",
    "m = 3\n",
    "nums2 = [1,1,1,7]\n",
    "n = 4"
   ]
  },
  {
   "cell_type": "code",
   "execution_count": 104,
   "metadata": {},
   "outputs": [],
   "source": [
    "#first solution \n",
    "nums1[m:] = nums2\n",
    "nums1.sort() "
   ]
  },
  {
   "cell_type": "code",
   "execution_count": 117,
   "metadata": {},
   "outputs": [],
   "source": [
    "# second solution 0(m+n)\n",
    "#tire profit du fait que les listes nums1 et nums2 sont déjà triées.\n",
    "last = m+n-1\n",
    "while m>0 and n>0:\n",
    "    if nums1[m-1] > nums2[n-1]:\n",
    "        nums1[last] = nums1[m-1]\n",
    "        m-=1\n",
    "    else:\n",
    "        nums1[last] = nums2[n-1]\n",
    "        n-=1\n",
    "    last-=1\n",
    "while n>0:\n",
    "    nums1[last] = nums2[n]\n",
    "    n, last = n-1, last-1"
   ]
  },
  {
   "cell_type": "code",
   "execution_count": 118,
   "metadata": {},
   "outputs": [
    {
     "data": {
      "text/plain": [
       "[1, 1, 1, 1, 2, 3, 7]"
      ]
     },
     "execution_count": 118,
     "metadata": {},
     "output_type": "execute_result"
    }
   ],
   "source": [
    "nums1"
   ]
  }
 ],
 "metadata": {
  "kernelspec": {
   "display_name": "venv",
   "language": "python",
   "name": "venv"
  },
  "language_info": {
   "codemirror_mode": {
    "name": "ipython",
    "version": 3
   },
   "file_extension": ".py",
   "mimetype": "text/x-python",
   "name": "python",
   "nbconvert_exporter": "python",
   "pygments_lexer": "ipython3",
   "version": "3.8.3rc1"
  }
 },
 "nbformat": 4,
 "nbformat_minor": 4
}
