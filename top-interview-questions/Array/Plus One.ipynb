{
 "cells": [
  {
   "cell_type": "markdown",
   "id": "890aaa8d",
   "metadata": {},
   "source": [
    "You are given a large integer represented as an integer array digits, where each digits[i] <br>\n",
    "is the ith digit of the integer. The digits are ordered from most significant to least significant<br>\n",
    "in left-to-right order. The large integer does not contain any leading 0's.\n",
    "\n",
    "Increment the large integer by one and return the resulting array of digits"
   ]
  },
  {
   "cell_type": "code",
   "execution_count": 84,
   "id": "9f18c27b",
   "metadata": {},
   "outputs": [
    {
     "data": {
      "text/plain": [
       "[9, 0, 0, 0]"
      ]
     },
     "execution_count": 84,
     "metadata": {},
     "output_type": "execute_result"
    }
   ],
   "source": [
    "digits = [8,9,9,9]\n",
    "def plusOne(digits):\n",
    "    size = len(digits)\n",
    "    last_digit = digits[-1]\n",
    "    if last_digit<9:\n",
    "        return [d for d in digits[:-1]]+[last_digit+1]\n",
    "    else:\n",
    "        last_nine_index = size-1\n",
    "        while(last_nine_index>0 and digits[last_nine_index-1]==9):\n",
    "            last_nine_index -=1\n",
    "        if(last_nine_index==0):\n",
    "            digits.insert(0,1)\n",
    "            for k in range(1, size+1):\n",
    "                digits[k] = 0\n",
    "        else:\n",
    "            digits[last_nine_index-1]+=1\n",
    "            for k in range(last_nine_index, size):\n",
    "                digits[k] = 0\n",
    "        return digits\n",
    "plusOne(digits)"
   ]
  }
 ],
 "metadata": {
  "kernelspec": {
   "display_name": "venv",
   "language": "python",
   "name": "venv"
  },
  "language_info": {
   "codemirror_mode": {
    "name": "ipython",
    "version": 3
   },
   "file_extension": ".py",
   "mimetype": "text/x-python",
   "name": "python",
   "nbconvert_exporter": "python",
   "pygments_lexer": "ipython3",
   "version": "3.8.3rc1"
  }
 },
 "nbformat": 4,
 "nbformat_minor": 5
}
