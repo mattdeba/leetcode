{
 "cells": [
  {
   "cell_type": "code",
   "execution_count": 37,
   "id": "bf18d7f1",
   "metadata": {},
   "outputs": [],
   "source": [
    "board = [[\"5\",\"3\",\".\",\".\",\"7\",\".\",\".\",\".\",\".\"]\n",
    ",[\"6\",\".\",\".\",\"1\",\"9\",\"5\",\".\",\".\",\".\"]\n",
    ",[\".\",\"9\",\"8\",\".\",\".\",\".\",\".\",\"6\",\".\"]\n",
    ",[\"8\",\".\",\".\",\".\",\"6\",\".\",\".\",\".\",\"3\"]\n",
    ",[\"4\",\".\",\".\",\"8\",\".\",\"3\",\".\",\".\",\"1\"]\n",
    ",[\"7\",\".\",\".\",\".\",\"2\",\".\",\".\",\".\",\"6\"]\n",
    ",[\".\",\"6\",\".\",\".\",\".\",\".\",\"2\",\"8\",\".\"]\n",
    ",[\".\",\".\",\".\",\"4\",\"1\",\"9\",\".\",\".\",\"5\"]\n",
    ",[\".\",\".\",\".\",\".\",\"8\",\".\",\".\",\"7\",\"9\"]]"
   ]
  },
  {
   "cell_type": "code",
   "execution_count": 4,
   "id": "e8a38a73",
   "metadata": {},
   "outputs": [],
   "source": [
    "from collections import Counter"
   ]
  },
  {
   "cell_type": "code",
   "execution_count": 43,
   "id": "3482c52d",
   "metadata": {},
   "outputs": [],
   "source": [
    "def check_list_valid(row):\n",
    "    counter = Counter(row)\n",
    "    for k in counter:\n",
    "        if k !='.' and counter[k]!=1:\n",
    "            return False\n",
    "    return True"
   ]
  },
  {
   "cell_type": "code",
   "execution_count": 46,
   "id": "dedb8d16",
   "metadata": {},
   "outputs": [],
   "source": [
    "def is_valid(board):\n",
    "    cols = [[] for k in range(9)]\n",
    "    blocks = [[[] for k in range(3)] for l in range(3)]\n",
    "    for k, row in enumerate(board):\n",
    "        for l, value in enumerate(row):\n",
    "            cols[l].append(value)\n",
    "            blocks[k//3][l//3].append(value)    \n",
    "    for row in board:\n",
    "        if not check_list_valid(row):\n",
    "            print(row)\n",
    "            return False\n",
    "    for col in cols:\n",
    "        if not check_list_valid(col):\n",
    "            return False\n",
    "    for b in blocks:\n",
    "        for b_list in b:\n",
    "            if not check_list_valid:\n",
    "                return False\n",
    "    return True"
   ]
  },
  {
   "cell_type": "code",
   "execution_count": 47,
   "id": "3638934c",
   "metadata": {},
   "outputs": [
    {
     "data": {
      "text/plain": [
       "True"
      ]
     },
     "execution_count": 47,
     "metadata": {},
     "output_type": "execute_result"
    }
   ],
   "source": [
    "is_valid(board)"
   ]
  },
  {
   "cell_type": "code",
   "execution_count": 60,
   "id": "4e92ba2f",
   "metadata": {},
   "outputs": [],
   "source": [
    "rowSets = [set() for k in range(9)]\n",
    "colSets = [set() for k in range(9)]\n",
    "blockSets = [[set() for k in range(3)] for l in range(3)]\n",
    "def is_valid(board):\n",
    "    for k, row in enumerate(board):\n",
    "        for l, value in enumerate(row):\n",
    "            if value != '.':\n",
    "                if value in colSets[l]:\n",
    "                    return False\n",
    "                else: \n",
    "                    colSets[l].add(value)\n",
    "                if value in rowSets[k]:\n",
    "                    return False\n",
    "                else: \n",
    "                    rowSets[k].add(value)\n",
    "                if value in blockSets[k//3][l//3]:\n",
    "                    return False\n",
    "                else:\n",
    "                    blockSets[k//3][l//3].add(value)\n",
    "    return True"
   ]
  },
  {
   "cell_type": "code",
   "execution_count": 61,
   "id": "0e185154",
   "metadata": {},
   "outputs": [
    {
     "data": {
      "text/plain": [
       "True"
      ]
     },
     "execution_count": 61,
     "metadata": {},
     "output_type": "execute_result"
    }
   ],
   "source": [
    "is_valid(board)"
   ]
  }
 ],
 "metadata": {
  "kernelspec": {
   "display_name": "venv",
   "language": "python",
   "name": "venv"
  },
  "language_info": {
   "codemirror_mode": {
    "name": "ipython",
    "version": 3
   },
   "file_extension": ".py",
   "mimetype": "text/x-python",
   "name": "python",
   "nbconvert_exporter": "python",
   "pygments_lexer": "ipython3",
   "version": "3.8.3rc1"
  }
 },
 "nbformat": 4,
 "nbformat_minor": 5
}
