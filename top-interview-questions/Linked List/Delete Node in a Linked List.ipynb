{
 "cells": [
  {
   "cell_type": "code",
   "execution_count": 35,
   "metadata": {},
   "outputs": [],
   "source": [
    "# Definition for singly-linked list.\n",
    "# class ListNode:\n",
    "#     def __init__(self, val=0, next=None):\n",
    "#         self.val = val\n",
    "#         self.next = next\n",
    "class Solution:\n",
    "    def removeNthFromEnd(self, head: Optional[ListNode], n: int) -> Optional[ListNode]:        \n",
    "        if n==1 and head.next==None:\n",
    "            return \n",
    "        if n==0:\n",
    "            return head\n",
    "        \n",
    "        tmp_first = head\n",
    "        node = head\n",
    "        for k in range(1,n):\n",
    "            node = node.next\n",
    "        \n",
    "        while(node.next):\n",
    "            previous = tmp_first\n",
    "            tmp_first = tmp_first.next\n",
    "            node = node.next\n",
    "        \n",
    "        if tmp_first.next:\n",
    "            next_node = tmp_first.next\n",
    "            tmp_first.next = next_node.next\n",
    "            tmp_first.val = next_node.val\n",
    "            del next_node\n",
    "            \n",
    "        else:\n",
    "            previous.next = None\n",
    "        \n",
    "        return head                \n",
    "        "
   ]
  }
 ],
 "metadata": {
  "kernelspec": {
   "display_name": "Python 3",
   "language": "python",
   "name": "python3"
  },
  "language_info": {
   "codemirror_mode": {
    "name": "ipython",
    "version": 3
   },
   "file_extension": ".py",
   "mimetype": "text/x-python",
   "name": "python",
   "nbconvert_exporter": "python",
   "pygments_lexer": "ipython3",
   "version": "3.8.3rc1"
  }
 },
 "nbformat": 4,
 "nbformat_minor": 4
}
