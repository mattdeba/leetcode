{
 "cells": [
  {
   "cell_type": "markdown",
   "metadata": {},
   "source": [
    "Given an array, rotate the array to the right by k steps, where k is non-negative.<br/>\n",
    "Input: nums = [1,2,3,4,5,6,7], k = 3 <br/>\n",
    "Output: [5,6,7,1,2,3,4]"
   ]
  },
  {
   "cell_type": "markdown",
   "metadata": {},
   "source": [
    "solution: move values one by one.<br/>\n",
    "from the index i to the index (i+k)%size <br/>"
   ]
  },
  {
   "cell_type": "code",
   "execution_count": 1,
   "metadata": {},
   "outputs": [],
   "source": [
    "class Solution:\n",
    "    def rotate(self, nums: list, k: int) -> None:\n",
    "        size = len(nums)\n",
    "        pp_i = 0\n",
    "        pp = nums[pp_i]\n",
    "        n=0\n",
    "        while n<size:\n",
    "            p_i = (pp_i+k)%size\n",
    "            p = nums[p_i]\n",
    "            nums[p_i] = pp\n",
    "            pp = p\n",
    "            pp_i = p_i\n",
    "            n+=1  "
   ]
  },
  {
   "cell_type": "code",
   "execution_count": 2,
   "metadata": {},
   "outputs": [],
   "source": [
    "#This solution is not valid because it introduces a cyclic depency !!\n",
    "nums = [1,2,3,4,5,6,7,8,9,10]\n",
    "k = 3\n",
    "size = len(nums)\n",
    "pp_i = 0\n",
    "pp = nums[pp_i]\n",
    "n=0\n",
    "while n<size:\n",
    "    p_i = (pp_i+k)%size\n",
    "    p = nums[p_i]\n",
    "    nums[p_i] = pp\n",
    "    pp = p\n",
    "    pp_i = p_i\n",
    "    n+=1  "
   ]
  },
  {
   "cell_type": "code",
   "execution_count": 10,
   "metadata": {},
   "outputs": [],
   "source": [
    "nums = [1,2,3,4,5,6,7,8,9,10]\n",
    "size = len(nums)\n",
    "for _ in range(k):\n",
    "    nums.insert(0, nums.pop())"
   ]
  }
 ],
 "metadata": {
  "kernelspec": {
   "display_name": "venv",
   "language": "python",
   "name": "venv"
  },
  "language_info": {
   "codemirror_mode": {
    "name": "ipython",
    "version": 3
   },
   "file_extension": ".py",
   "mimetype": "text/x-python",
   "name": "python",
   "nbconvert_exporter": "python",
   "pygments_lexer": "ipython3",
   "version": "3.8.3rc1"
  }
 },
 "nbformat": 4,
 "nbformat_minor": 4
}
