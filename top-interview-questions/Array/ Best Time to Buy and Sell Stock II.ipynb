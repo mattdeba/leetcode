{
 "cells": [
  {
   "cell_type": "code",
   "execution_count": 97,
   "metadata": {},
   "outputs": [],
   "source": [
    "class Solution:\n",
    "    def maxProfit(self, prices: [int]) -> int:\n",
    "        minimums = []\n",
    "        maximums = []\n",
    "        \n",
    "        if size < 2:\n",
    "            return 0\n",
    "        \n",
    "        if prices[0] < prices[1]:\n",
    "            minimums.append((0, prices[0]))\n",
    "\n",
    "        if prices[-1] > prices[-2]:\n",
    "            maximums.append((size-1, prices[size-1]))    \n",
    "\n",
    "        for i in range(1, size-1):\n",
    "            if (prices[i-1] < prices[i] and prices[i] >= prices[i+1]):\n",
    "                maximums.append((i, prices[i]))\n",
    "            if (prices[i-1] >= prices[i] and prices[i] < prices[i+1]):\n",
    "                minimums.append((i, prices[i]))   \n",
    "        \n",
    "        somme = 0\n",
    "        for k in range(len(maximums)):\n",
    "            somme += maximums[k][1] - minimums[k][1]\n",
    "        \n",
    "        return somme"
   ]
  }
 ],
 "metadata": {
  "kernelspec": {
   "display_name": "venv",
   "language": "python",
   "name": "venv"
  },
  "language_info": {
   "codemirror_mode": {
    "name": "ipython",
    "version": 3
   },
   "file_extension": ".py",
   "mimetype": "text/x-python",
   "name": "python",
   "nbconvert_exporter": "python",
   "pygments_lexer": "ipython3",
   "version": "3.8.3rc1"
  }
 },
 "nbformat": 4,
 "nbformat_minor": 4
}
