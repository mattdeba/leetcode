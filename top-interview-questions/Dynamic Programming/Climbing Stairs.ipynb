{
 "cells": [
  {
   "cell_type": "markdown",
   "metadata": {},
   "source": [
    "You are climbing a staircase. It takes n steps to reach the top.\n",
    "\n",
    "Each time you can either climb 1 or 2 steps. In how many distinct ways can you climb to the top?"
   ]
  },
  {
   "cell_type": "markdown",
   "metadata": {},
   "source": [
    "key: <br>\n",
    "soit on monte 0 fois le double stairs.<br>\n",
    "soit on monte 1 fois le double stairs.<br>\n",
    "soit on monte 2 fois le double stairs.<br>\n",
    "...<br>\n",
    "jusque n//q<br>\n",
    "<br>\n",
    "pour chaque cas on a q double stairs et (n-2q) simple stairs<br>\n",
    "donc q+n-2q steps = n-q steps,<br>\n",
    "dont q double stairs steps.<br>\n",
    "soit q parmi n-q possibilités.<br>"
   ]
  },
  {
   "cell_type": "code",
   "execution_count": 3,
   "metadata": {},
   "outputs": [],
   "source": [
    "import math\n",
    "def climbStairs(n: int) -> int:\n",
    "    qmax = n//2\n",
    "    pos=0\n",
    "    for q in range(0, qmax+1):\n",
    "        pos += math.comb(n-q, q)\n",
    "    return pos"
   ]
  },
  {
   "cell_type": "code",
   "execution_count": 4,
   "metadata": {},
   "outputs": [
    {
     "data": {
      "text/plain": [
       "89"
      ]
     },
     "execution_count": 4,
     "metadata": {},
     "output_type": "execute_result"
    }
   ],
   "source": [
    "climbStairs(10)"
   ]
  }
 ],
 "metadata": {
  "kernelspec": {
   "display_name": "venv",
   "language": "python",
   "name": "venv"
  },
  "language_info": {
   "codemirror_mode": {
    "name": "ipython",
    "version": 3
   },
   "file_extension": ".py",
   "mimetype": "text/x-python",
   "name": "python",
   "nbconvert_exporter": "python",
   "pygments_lexer": "ipython3",
   "version": "3.8.3rc1"
  }
 },
 "nbformat": 4,
 "nbformat_minor": 4
}
