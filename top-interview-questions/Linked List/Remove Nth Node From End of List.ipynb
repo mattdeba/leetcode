{
 "cells": [
  {
   "cell_type": "code",
   "execution_count": null,
   "metadata": {},
   "outputs": [],
   "source": [
    "# Definition for singly-linked list.\n",
    "# class ListNode:\n",
    "#     def __init__(self, val=0, next=None):\n",
    "#         self.val = val\n",
    "#         self.next = next\n",
    "class Solution:\n",
    "    def removeNthFromEnd(self, head: Optional[ListNode], n: int) -> Optional[ListNode]:        \n",
    "        tmp_first = head\n",
    "        node = head\n",
    "        for k in range(1,n):\n",
    "            node = node.next\n",
    "        \n",
    "        while(node.next):\n",
    "            tmp_first = tmp_first.next\n",
    "            node = node.next\n",
    "        \n",
    "        next_tmp_first  = tmp_first.next\n",
    "        tmp_first.next = next_tmp_first.next\n",
    "        tmp_first.val = next_tmp_first.val\n",
    "        del next_tmp_first\n",
    "        \n",
    "        return head                \n",
    "        "
   ]
  }
 ],
 "metadata": {
  "kernelspec": {
   "display_name": "venv",
   "language": "python",
   "name": "venv"
  },
  "language_info": {
   "codemirror_mode": {
    "name": "ipython",
    "version": 3
   },
   "file_extension": ".py",
   "mimetype": "text/x-python",
   "name": "python",
   "nbconvert_exporter": "python",
   "pygments_lexer": "ipython3",
   "version": "3.8.3rc1"
  }
 },
 "nbformat": 4,
 "nbformat_minor": 4
}
